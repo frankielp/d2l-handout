{
 "cells": [
  {
   "cell_type": "markdown",
   "id": "3740d058",
   "metadata": {},
   "source": [
    "# Formula\n",
    "$$ \\hat{\\mathbf{y}} = \\mathrm{softmax}(\\mathbf{o})\\quad \\text{tại}\\quad\n",
    "\\hat{y}_i = \\frac{\\exp(o_i)}{\\sum_j \\exp(o_j)}. $$\n",
    "\n",
    "# Cross Entropy loss\n",
    "$$ l = -\\log P(y \\mid x) = - \\sum_j y_j \\log \\hat{y}_j. $$\n",
    "\n",
    "# Tóm tắt\n",
    "\n",
    "Chúng tôi đã giới thiệu về hàm softmax giúp ánh xạ một vector đầu vào sang các giá trị xác suất.\n",
    "\n",
    "Hồi quy softmax được áp dụng cho các bài toán phân loại. Nó sử dụng phân phối xác suất của các lớp đầu ra thông qua hàm softmax.\n",
    "\n",
    "Entropy chéo là một phép đánh giá tốt cho sự khác nhau giữa 2 phân phối xác suất. Nó đo lường số lượng bit cần để biểu diễn dữ liệu cho mô hình."
   ]
  }
 ],
 "metadata": {
  "kernelspec": {
   "display_name": "Python 3 (ipykernel)",
   "language": "python",
   "name": "python3"
  },
  "language_info": {
   "codemirror_mode": {
    "name": "ipython",
    "version": 3
   },
   "file_extension": ".py",
   "mimetype": "text/x-python",
   "name": "python",
   "nbconvert_exporter": "python",
   "pygments_lexer": "ipython3",
   "version": "3.8.11"
  }
 },
 "nbformat": 4,
 "nbformat_minor": 5
}
