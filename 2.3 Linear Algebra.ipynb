{
 "cells": [
  {
   "cell_type": "code",
   "execution_count": 4,
   "id": "9abf8a17",
   "metadata": {},
   "outputs": [],
   "source": [
    "from mxnet import np,npx\n",
    "np, npx\n",
    "npx.set_np()"
   ]
  },
  {
   "cell_type": "code",
   "execution_count": 5,
   "id": "e957ac68",
   "metadata": {
    "scrolled": true
   },
   "outputs": [
    {
     "data": {
      "text/plain": [
       "array(5.)"
      ]
     },
     "execution_count": 5,
     "metadata": {},
     "output_type": "execute_result"
    }
   ],
   "source": [
    "u = np.array([3, -4])\n",
    "np.linalg.norm(u)"
   ]
  },
  {
   "cell_type": "code",
   "execution_count": 7,
   "id": "25b0d45b",
   "metadata": {},
   "outputs": [
    {
     "data": {
      "text/plain": [
       "array(7.)"
      ]
     },
     "execution_count": 7,
     "metadata": {},
     "output_type": "execute_result"
    }
   ],
   "source": [
    "np.abs(u).sum()"
   ]
  },
  {
   "cell_type": "markdown",
   "id": "fa68e3b0",
   "metadata": {},
   "source": [
    "Chuẩn Frobenius của một ma trận là căn bậc hai của tổng các bình phương của các thành phần trong ma trận\n",
    "$$ \\|\\mathbf{x}\\|_p = \\left(\\sum_{i=1}^n \\left|x_i \\right|^p \\right)^{1/p}. $$ "
   ]
  },
  {
   "cell_type": "code",
   "execution_count": 8,
   "id": "c360aa5c",
   "metadata": {},
   "outputs": [
    {
     "data": {
      "text/plain": [
       "array(6.)"
      ]
     },
     "execution_count": 8,
     "metadata": {},
     "output_type": "execute_result"
    }
   ],
   "source": [
    "np.linalg.norm(np.ones((4, 9)))"
   ]
  },
  {
   "cell_type": "markdown",
   "id": "c7eab75a",
   "metadata": {},
   "source": [
    "# Tóm tắt\n",
    "\n",
    "- Số vô hướng, vector, ma trận, và tensor là các đối tượng toán học cơ bản trong đại số tuyến tính.\n",
    "- Vector là dạng tổng quát của số vô hướng và ma trận là dạng tổng quát của vector.\n",
    "- Trong cách biểu diễn ndarray, các số vô hướng, vector, ma trận và tensor lần lượt có 0, 1, 2 và một số lượng tùy ý các trục.\n",
    "- Một tensor có thể thu gọn theo một số trục bằng sum và mean.\n",
    "- Phép nhân theo từng phần tử của hai ma trận được gọi là tích Hadamard của chúng. Phép toán này khác với phép nhân ma trận.\n",
    "- Trong học sâu, chúng ta thường làm việc với các chuẩn như chuẩn  ℓ1, chuẩn  ℓ2 và chuẩn Frobenius.\n",
    "- Chúng ta có thể thực hiện một số lượng lớn các toán tử trên số vô hướng, vector, ma trận và tensor với các hàm của ndarray."
   ]
  }
 ],
 "metadata": {
  "kernelspec": {
   "display_name": "Python 3 (ipykernel)",
   "language": "python",
   "name": "python3"
  },
  "language_info": {
   "codemirror_mode": {
    "name": "ipython",
    "version": 3
   },
   "file_extension": ".py",
   "mimetype": "text/x-python",
   "name": "python",
   "nbconvert_exporter": "python",
   "pygments_lexer": "ipython3",
   "version": "3.8.11"
  }
 },
 "nbformat": 4,
 "nbformat_minor": 5
}
